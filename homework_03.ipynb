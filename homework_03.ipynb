{
 "cells": [
  {
   "cell_type": "markdown",
   "metadata": {},
   "source": [
    "(lecture03:homework)=\n",
    "# Homework 3\n",
    "\n",
    "+ Type your name and email in the \"Student details\" section below.\n",
    "+ Develop the code and generate the figures you need to solve the problems using this notebook.\n",
    "+ For the answers that require a mathematical proof or derivation you can either:\n",
    "    \n",
    "    - Type the answer using the built-in latex capabilities. In this case, simply export the notebook as a pdf and upload it on gradescope; or\n",
    "    - You can print the notebook (after you are done with all the code), write your answers by hand, scan, turn your response to a single pdf, and upload on gradescope.\n",
    "\n",
    "+ The total homework points are 100. Please note that the problems are not weighed equally.\n",
    "\n",
    "```{note}\n",
    "+ This is due before the beginning of the next lecture.\n",
    "+ Please match all the pages corresponding to each of the questions when you submit on gradescope.\n",
    "```"
   ]
  },
  {
   "attachments": {},
   "cell_type": "markdown",
   "metadata": {},
   "source": [
    "## Student details\n",
    "\n",
    "+ **First Name:Serge Candide \n",
    "+ **Last Name: KPONOU \n",
    "+ **Email: didben77@gmail.com "
   ]
  },
  {
   "cell_type": "markdown",
   "metadata": {},
   "source": [
    "(lecture03:homework:problem1)=\n",
    "## Problem 1 - High-performance buildings\n",
    "\n",
    "In this problem we are going to use the `pandas` library to analyze a real dataset collected as part of the NSF-funded project [Sociotechnical Systems to Enable Energy-Aware Residential Communities](https://www.energyawarecommunities.org/).\n",
    "You can find the raw dataset here:\n",
    "\n",
    "https://github.com/PurdueMechanicalEngineering/me-297-intro-to-data-science/raw/master/data/temperature_raw.xlsx\n",
    "\n",
    "Feel free to download it and open it up in Excel.\n",
    "\n",
    "### Uploading data files to Google Colab\n",
    "\n",
    "The first thing we are going to do in this problem is make this file accessible from this notebook. We could simply use the ``download()`` function that I introduced in the lecture. I will put the code at the very last block for your convenience.\n",
    "However, I still want to show you how you can upload your own data. Here we go.\n",
    "\n",
    "Go to your Google Drive. We need to select a folder to put the files. To keep things simple, let's just dump everything in \"My Drive/Colab Notebooks,\" i.e., the same folder that contains the copy of this Jupyter notebook which you should have already made  Once you have entered this folder in your Google Drive (just double click on it), drag and drop the `temperature_raw.xlsx` file in there.\n",
    "\n",
    "Now we need to make the Google Drive visible from this computational session. We do this by mounting the drive. You need to run this code and follow the instructions:"
   ]
  },
  {
   "cell_type": "code",
   "execution_count": 1,
   "metadata": {},
   "outputs": [],
   "source": [
    "# # The following code does not run unless you are running the notebook on Google Colab\n",
    "# from google.colab import drive\n",
    "# drive.mount('/content/drive')"
   ]
  },
  {
   "cell_type": "markdown",
   "metadata": {},
   "source": [
    "Finally, change directories so that the data files are in the current working directory:"
   ]
  },
  {
   "cell_type": "code",
   "execution_count": 2,
   "metadata": {},
   "outputs": [],
   "source": [
    "# # Only if you are running on Google Colab...\n",
    "# # Print working directory before changing\n",
    "# !pwd\n",
    "# # Change to the desired directory on Google drive\n",
    "# %cd \"/content/drive/My Drive/Colab Notebooks\"\n",
    "# # Print working directory after changing\n",
    "# !pwd\n",
    "# # List the contents of the directory - Make sure it does contain the files we want:\n",
    "# !ls"
   ]
  },
  {
   "cell_type": "markdown",
   "metadata": {},
   "source": [
    "Now you should have access to the file and you can **skip the next code block.**\n",
    "If you tried and something went wrong, simply run the code block below and it will put the data file in the right location for you."
   ]
  },
  {
   "cell_type": "code",
   "execution_count": 3,
   "metadata": {},
   "outputs": [],
   "source": [
    "# Only run this if the steps above failed for some reason.\n",
    "import requests\n",
    "import os\n",
    "def download(url, local_filename=None):\n",
    "    \"\"\"\n",
    "    Downloads the file in the ``url`` and saves it in the current working directory.\n",
    "    \"\"\"\n",
    "    data = requests.get(url)\n",
    "    if local_filename is None:\n",
    "        local_filename = os.path.basename(url)\n",
    "    with open(local_filename, 'wb') as fd:\n",
    "        fd.write(data.content)\n",
    "   \n",
    "# The url of the file we want to download\n",
    "url = 'https://github.com/PurdueMechanicalEngineering/me-297-intro-to-data-science/raw/master/data/temperature_raw.xlsx'\n",
    "download(url)"
   ]
  },
  {
   "cell_type": "markdown",
   "metadata": {},
   "source": [
    "### Loading Excel files\n",
    "\n",
    "Use the ``pd.read_excel`` function to read the `temperature_raw.xlsx` file.\n",
    "Name the data frame you read `df`."
   ]
  },
  {
   "cell_type": "code",
   "execution_count": 4,
   "metadata": {},
   "outputs": [
    {
     "name": "stdout",
     "output_type": "stream",
     "text": [
      "catalysis.csv       python-csv-files.ipynb  temperature_clean.csv\n",
      "Extended_data.xlsx  python-matrices.ipynb   temperature_clean.xlsx\n",
      "homework_03.ipynb   python-pandas.ipynb     temperature_raw.xlsx\n",
      "intro.md            random_data.csv         temp_price.csv\n"
     ]
    }
   ],
   "source": [
    "ls "
   ]
  },
  {
   "cell_type": "code",
   "execution_count": 5,
   "metadata": {},
   "outputs": [
    {
     "name": "stdout",
     "output_type": "stream",
     "text": [
      "temperature_raw.xlsx\n"
     ]
    }
   ],
   "source": [
    "ls temperature_raw.xlsx"
   ]
  },
  {
   "attachments": {},
   "cell_type": "markdown",
   "metadata": {},
   "source": [
    "We can now load the data"
   ]
  },
  {
   "cell_type": "code",
   "execution_count": 6,
   "metadata": {},
   "outputs": [],
   "source": [
    "import pandas as pd\n",
    "df = pd.read_excel(\"temperature_raw.xlsx\") # your code here"
   ]
  },
  {
   "cell_type": "markdown",
   "metadata": {},
   "source": [
    "### Questions\n",
    "\n",
    "Now that you have access to the data frame, let's explore it.\n",
    "Answer the following questions.\n",
    "\n",
    "+ Print the first 10 rows of the data frame `df`:"
   ]
  },
  {
   "cell_type": "code",
   "execution_count": 7,
   "metadata": {},
   "outputs": [
    {
     "data": {
      "text/html": [
       "<div>\n",
       "<style scoped>\n",
       "    .dataframe tbody tr th:only-of-type {\n",
       "        vertical-align: middle;\n",
       "    }\n",
       "\n",
       "    .dataframe tbody tr th {\n",
       "        vertical-align: top;\n",
       "    }\n",
       "\n",
       "    .dataframe thead th {\n",
       "        text-align: right;\n",
       "    }\n",
       "</style>\n",
       "<table border=\"1\" class=\"dataframe\">\n",
       "  <thead>\n",
       "    <tr style=\"text-align: right;\">\n",
       "      <th></th>\n",
       "      <th>household</th>\n",
       "      <th>date</th>\n",
       "      <th>score</th>\n",
       "      <th>t_out</th>\n",
       "      <th>t_unit</th>\n",
       "      <th>hvac</th>\n",
       "    </tr>\n",
       "  </thead>\n",
       "  <tbody>\n",
       "    <tr>\n",
       "      <th>0</th>\n",
       "      <td>a1</td>\n",
       "      <td>2018-01-07</td>\n",
       "      <td>100.0</td>\n",
       "      <td>4.283373</td>\n",
       "      <td>66.693229</td>\n",
       "      <td>246.473231</td>\n",
       "    </tr>\n",
       "    <tr>\n",
       "      <th>1</th>\n",
       "      <td>a10</td>\n",
       "      <td>2018-01-07</td>\n",
       "      <td>100.0</td>\n",
       "      <td>4.283373</td>\n",
       "      <td>66.356134</td>\n",
       "      <td>5.492116</td>\n",
       "    </tr>\n",
       "    <tr>\n",
       "      <th>2</th>\n",
       "      <td>a11</td>\n",
       "      <td>2018-01-07</td>\n",
       "      <td>58.0</td>\n",
       "      <td>4.283373</td>\n",
       "      <td>71.549132</td>\n",
       "      <td>402.094327</td>\n",
       "    </tr>\n",
       "    <tr>\n",
       "      <th>3</th>\n",
       "      <td>a12</td>\n",
       "      <td>2018-01-07</td>\n",
       "      <td>64.0</td>\n",
       "      <td>4.283373</td>\n",
       "      <td>73.429514</td>\n",
       "      <td>211.692244</td>\n",
       "    </tr>\n",
       "    <tr>\n",
       "      <th>4</th>\n",
       "      <td>a13</td>\n",
       "      <td>2018-01-07</td>\n",
       "      <td>100.0</td>\n",
       "      <td>4.283373</td>\n",
       "      <td>63.923937</td>\n",
       "      <td>0.850536</td>\n",
       "    </tr>\n",
       "    <tr>\n",
       "      <th>5</th>\n",
       "      <td>a14</td>\n",
       "      <td>2018-01-07</td>\n",
       "      <td>NaN</td>\n",
       "      <td>4.283373</td>\n",
       "      <td>NaN</td>\n",
       "      <td>NaN</td>\n",
       "    </tr>\n",
       "    <tr>\n",
       "      <th>6</th>\n",
       "      <td>a15</td>\n",
       "      <td>2018-01-07</td>\n",
       "      <td>NaN</td>\n",
       "      <td>4.283373</td>\n",
       "      <td>NaN</td>\n",
       "      <td>NaN</td>\n",
       "    </tr>\n",
       "    <tr>\n",
       "      <th>7</th>\n",
       "      <td>a16</td>\n",
       "      <td>2018-01-07</td>\n",
       "      <td>56.0</td>\n",
       "      <td>4.283373</td>\n",
       "      <td>66.908970</td>\n",
       "      <td>529.843389</td>\n",
       "    </tr>\n",
       "    <tr>\n",
       "      <th>8</th>\n",
       "      <td>a2</td>\n",
       "      <td>2018-01-07</td>\n",
       "      <td>38.0</td>\n",
       "      <td>4.283373</td>\n",
       "      <td>76.063194</td>\n",
       "      <td>556.206108</td>\n",
       "    </tr>\n",
       "    <tr>\n",
       "      <th>9</th>\n",
       "      <td>a3</td>\n",
       "      <td>2018-01-07</td>\n",
       "      <td>50.0</td>\n",
       "      <td>4.283373</td>\n",
       "      <td>75.677199</td>\n",
       "      <td>508.592283</td>\n",
       "    </tr>\n",
       "  </tbody>\n",
       "</table>\n",
       "</div>"
      ],
      "text/plain": [
       "  household        date  score     t_out     t_unit        hvac\n",
       "0        a1  2018-01-07  100.0  4.283373  66.693229  246.473231\n",
       "1       a10  2018-01-07  100.0  4.283373  66.356134    5.492116\n",
       "2       a11  2018-01-07   58.0  4.283373  71.549132  402.094327\n",
       "3       a12  2018-01-07   64.0  4.283373  73.429514  211.692244\n",
       "4       a13  2018-01-07  100.0  4.283373  63.923937    0.850536\n",
       "5       a14  2018-01-07    NaN  4.283373        NaN         NaN\n",
       "6       a15  2018-01-07    NaN  4.283373        NaN         NaN\n",
       "7       a16  2018-01-07   56.0  4.283373  66.908970  529.843389\n",
       "8        a2  2018-01-07   38.0  4.283373  76.063194  556.206108\n",
       "9        a3  2018-01-07   50.0  4.283373  75.677199  508.592283"
      ]
     },
     "execution_count": 7,
     "metadata": {},
     "output_type": "execute_result"
    }
   ],
   "source": [
    "# Your code here\n",
    "df.head(10)"
   ]
  },
  {
   "cell_type": "markdown",
   "metadata": {},
   "source": [
    "+ Print the last 10 rows of the data frame `df`:"
   ]
  },
  {
   "cell_type": "code",
   "execution_count": 8,
   "metadata": {},
   "outputs": [
    {
     "data": {
      "text/html": [
       "<div>\n",
       "<style scoped>\n",
       "    .dataframe tbody tr th:only-of-type {\n",
       "        vertical-align: middle;\n",
       "    }\n",
       "\n",
       "    .dataframe tbody tr th {\n",
       "        vertical-align: top;\n",
       "    }\n",
       "\n",
       "    .dataframe thead th {\n",
       "        text-align: right;\n",
       "    }\n",
       "</style>\n",
       "<table border=\"1\" class=\"dataframe\">\n",
       "  <thead>\n",
       "    <tr style=\"text-align: right;\">\n",
       "      <th></th>\n",
       "      <th>household</th>\n",
       "      <th>date</th>\n",
       "      <th>score</th>\n",
       "      <th>t_out</th>\n",
       "      <th>t_unit</th>\n",
       "      <th>hvac</th>\n",
       "    </tr>\n",
       "  </thead>\n",
       "  <tbody>\n",
       "    <tr>\n",
       "      <th>5640</th>\n",
       "      <td>c41</td>\n",
       "      <td>2020-02-25</td>\n",
       "      <td>84.0</td>\n",
       "      <td>43.642388</td>\n",
       "      <td>70.929066</td>\n",
       "      <td>32.371903</td>\n",
       "    </tr>\n",
       "    <tr>\n",
       "      <th>5641</th>\n",
       "      <td>c42</td>\n",
       "      <td>2020-02-25</td>\n",
       "      <td>45.0</td>\n",
       "      <td>43.642388</td>\n",
       "      <td>76.235294</td>\n",
       "      <td>0.000000</td>\n",
       "    </tr>\n",
       "    <tr>\n",
       "      <th>5642</th>\n",
       "      <td>c43</td>\n",
       "      <td>2020-02-25</td>\n",
       "      <td>70.0</td>\n",
       "      <td>43.642388</td>\n",
       "      <td>78.302768</td>\n",
       "      <td>15.952602</td>\n",
       "    </tr>\n",
       "    <tr>\n",
       "      <th>5643</th>\n",
       "      <td>c44</td>\n",
       "      <td>2020-02-25</td>\n",
       "      <td>59.0</td>\n",
       "      <td>43.642388</td>\n",
       "      <td>76.494637</td>\n",
       "      <td>19.135139</td>\n",
       "    </tr>\n",
       "    <tr>\n",
       "      <th>5644</th>\n",
       "      <td>c45</td>\n",
       "      <td>2020-02-25</td>\n",
       "      <td>87.0</td>\n",
       "      <td>43.642388</td>\n",
       "      <td>71.165052</td>\n",
       "      <td>30.794281</td>\n",
       "    </tr>\n",
       "    <tr>\n",
       "      <th>5645</th>\n",
       "      <td>c46</td>\n",
       "      <td>2020-02-25</td>\n",
       "      <td>NaN</td>\n",
       "      <td>43.642388</td>\n",
       "      <td>NaN</td>\n",
       "      <td>NaN</td>\n",
       "    </tr>\n",
       "    <tr>\n",
       "      <th>5646</th>\n",
       "      <td>c47</td>\n",
       "      <td>2020-02-25</td>\n",
       "      <td>97.0</td>\n",
       "      <td>43.642388</td>\n",
       "      <td>68.603287</td>\n",
       "      <td>5.339391</td>\n",
       "    </tr>\n",
       "    <tr>\n",
       "      <th>5647</th>\n",
       "      <td>c48</td>\n",
       "      <td>2020-02-25</td>\n",
       "      <td>92.0</td>\n",
       "      <td>43.642388</td>\n",
       "      <td>73.429239</td>\n",
       "      <td>18.040078</td>\n",
       "    </tr>\n",
       "    <tr>\n",
       "      <th>5648</th>\n",
       "      <td>c49</td>\n",
       "      <td>2020-02-25</td>\n",
       "      <td>NaN</td>\n",
       "      <td>43.642388</td>\n",
       "      <td>NaN</td>\n",
       "      <td>NaN</td>\n",
       "    </tr>\n",
       "    <tr>\n",
       "      <th>5649</th>\n",
       "      <td>c50</td>\n",
       "      <td>2020-02-25</td>\n",
       "      <td>59.0</td>\n",
       "      <td>43.642388</td>\n",
       "      <td>77.716955</td>\n",
       "      <td>14.405155</td>\n",
       "    </tr>\n",
       "  </tbody>\n",
       "</table>\n",
       "</div>"
      ],
      "text/plain": [
       "     household        date  score      t_out     t_unit       hvac\n",
       "5640       c41  2020-02-25   84.0  43.642388  70.929066  32.371903\n",
       "5641       c42  2020-02-25   45.0  43.642388  76.235294   0.000000\n",
       "5642       c43  2020-02-25   70.0  43.642388  78.302768  15.952602\n",
       "5643       c44  2020-02-25   59.0  43.642388  76.494637  19.135139\n",
       "5644       c45  2020-02-25   87.0  43.642388  71.165052  30.794281\n",
       "5645       c46  2020-02-25    NaN  43.642388        NaN        NaN\n",
       "5646       c47  2020-02-25   97.0  43.642388  68.603287   5.339391\n",
       "5647       c48  2020-02-25   92.0  43.642388  73.429239  18.040078\n",
       "5648       c49  2020-02-25    NaN  43.642388        NaN        NaN\n",
       "5649       c50  2020-02-25   59.0  43.642388  77.716955  14.405155"
      ]
     },
     "execution_count": 8,
     "metadata": {},
     "output_type": "execute_result"
    }
   ],
   "source": [
    "# Your code here\n",
    "df.tail(10)"
   ]
  },
  {
   "cell_type": "markdown",
   "metadata": {},
   "source": [
    "+ Print summary statistics of the data set."
   ]
  },
  {
   "cell_type": "code",
   "execution_count": 9,
   "metadata": {},
   "outputs": [
    {
     "data": {
      "text/html": [
       "<div>\n",
       "<style scoped>\n",
       "    .dataframe tbody tr th:only-of-type {\n",
       "        vertical-align: middle;\n",
       "    }\n",
       "\n",
       "    .dataframe tbody tr th {\n",
       "        vertical-align: top;\n",
       "    }\n",
       "\n",
       "    .dataframe thead th {\n",
       "        text-align: right;\n",
       "    }\n",
       "</style>\n",
       "<table border=\"1\" class=\"dataframe\">\n",
       "  <thead>\n",
       "    <tr style=\"text-align: right;\">\n",
       "      <th></th>\n",
       "      <th>score</th>\n",
       "      <th>t_out</th>\n",
       "      <th>t_unit</th>\n",
       "      <th>hvac</th>\n",
       "    </tr>\n",
       "  </thead>\n",
       "  <tbody>\n",
       "    <tr>\n",
       "      <th>count</th>\n",
       "      <td>4887.000000</td>\n",
       "      <td>5650.000000</td>\n",
       "      <td>4887.000000</td>\n",
       "      <td>4887.000000</td>\n",
       "    </tr>\n",
       "    <tr>\n",
       "      <th>mean</th>\n",
       "      <td>74.372826</td>\n",
       "      <td>53.084123</td>\n",
       "      <td>74.172698</td>\n",
       "      <td>81.741860</td>\n",
       "    </tr>\n",
       "    <tr>\n",
       "      <th>std</th>\n",
       "      <td>21.643791</td>\n",
       "      <td>19.006199</td>\n",
       "      <td>2.608969</td>\n",
       "      <td>95.901059</td>\n",
       "    </tr>\n",
       "    <tr>\n",
       "      <th>min</th>\n",
       "      <td>0.000000</td>\n",
       "      <td>4.283373</td>\n",
       "      <td>63.923937</td>\n",
       "      <td>0.000000</td>\n",
       "    </tr>\n",
       "    <tr>\n",
       "      <th>25%</th>\n",
       "      <td>60.000000</td>\n",
       "      <td>37.522495</td>\n",
       "      <td>72.383504</td>\n",
       "      <td>18.321238</td>\n",
       "    </tr>\n",
       "    <tr>\n",
       "      <th>50%</th>\n",
       "      <td>79.000000</td>\n",
       "      <td>48.916667</td>\n",
       "      <td>74.178348</td>\n",
       "      <td>51.974687</td>\n",
       "    </tr>\n",
       "    <tr>\n",
       "      <th>75%</th>\n",
       "      <td>92.000000</td>\n",
       "      <td>73.079266</td>\n",
       "      <td>76.063591</td>\n",
       "      <td>110.487709</td>\n",
       "    </tr>\n",
       "    <tr>\n",
       "      <th>max</th>\n",
       "      <td>100.000000</td>\n",
       "      <td>82.819618</td>\n",
       "      <td>81.941295</td>\n",
       "      <td>693.526701</td>\n",
       "    </tr>\n",
       "  </tbody>\n",
       "</table>\n",
       "</div>"
      ],
      "text/plain": [
       "             score        t_out       t_unit         hvac\n",
       "count  4887.000000  5650.000000  4887.000000  4887.000000\n",
       "mean     74.372826    53.084123    74.172698    81.741860\n",
       "std      21.643791    19.006199     2.608969    95.901059\n",
       "min       0.000000     4.283373    63.923937     0.000000\n",
       "25%      60.000000    37.522495    72.383504    18.321238\n",
       "50%      79.000000    48.916667    74.178348    51.974687\n",
       "75%      92.000000    73.079266    76.063591   110.487709\n",
       "max     100.000000    82.819618    81.941295   693.526701"
      ]
     },
     "execution_count": 9,
     "metadata": {},
     "output_type": "execute_result"
    }
   ],
   "source": [
    "# Your code here\n",
    "df.describe()"
   ]
  },
  {
   "cell_type": "markdown",
   "metadata": {},
   "source": [
    "+ Notice that there is a column called \"date\", but pandas is not aware that this is actually a date.\n",
    "Let's make it aware of that."
   ]
  },
  {
   "cell_type": "code",
   "execution_count": 10,
   "metadata": {},
   "outputs": [],
   "source": [
    "df.date = pd.to_datetime(df['date'], format='%Y-%m-%d')"
   ]
  },
  {
   "cell_type": "markdown",
   "metadata": {},
   "source": [
    "+ Count how many NaN values you have on each column.\n",
    "*Hint: [Google it!](https://letmegooglethat.com/?q=pandas+count+NaN+values+per+column)"
   ]
  },
  {
   "cell_type": "code",
   "execution_count": 11,
   "metadata": {},
   "outputs": [],
   "source": [
    "# your code here\n"
   ]
  },
  {
   "cell_type": "markdown",
   "metadata": {},
   "source": [
    "+ Clean the data set by dropping all NaN values. Call the cleaned data `df_clean`."
   ]
  },
  {
   "cell_type": "code",
   "execution_count": 12,
   "metadata": {},
   "outputs": [],
   "source": [
    "df_clean = df.dropna() # your code here"
   ]
  },
  {
   "cell_type": "markdown",
   "metadata": {},
   "source": [
    "+ Verify that there are no NaN values in `df_clean`."
   ]
  },
  {
   "cell_type": "code",
   "execution_count": 13,
   "metadata": {},
   "outputs": [
    {
     "data": {
      "text/html": [
       "<div>\n",
       "<style scoped>\n",
       "    .dataframe tbody tr th:only-of-type {\n",
       "        vertical-align: middle;\n",
       "    }\n",
       "\n",
       "    .dataframe tbody tr th {\n",
       "        vertical-align: top;\n",
       "    }\n",
       "\n",
       "    .dataframe thead th {\n",
       "        text-align: right;\n",
       "    }\n",
       "</style>\n",
       "<table border=\"1\" class=\"dataframe\">\n",
       "  <thead>\n",
       "    <tr style=\"text-align: right;\">\n",
       "      <th></th>\n",
       "      <th>household</th>\n",
       "      <th>date</th>\n",
       "      <th>score</th>\n",
       "      <th>t_out</th>\n",
       "      <th>t_unit</th>\n",
       "      <th>hvac</th>\n",
       "    </tr>\n",
       "  </thead>\n",
       "  <tbody>\n",
       "    <tr>\n",
       "      <th>0</th>\n",
       "      <td>a1</td>\n",
       "      <td>2018-01-07</td>\n",
       "      <td>100.0</td>\n",
       "      <td>4.283373</td>\n",
       "      <td>66.693229</td>\n",
       "      <td>246.473231</td>\n",
       "    </tr>\n",
       "    <tr>\n",
       "      <th>1</th>\n",
       "      <td>a10</td>\n",
       "      <td>2018-01-07</td>\n",
       "      <td>100.0</td>\n",
       "      <td>4.283373</td>\n",
       "      <td>66.356134</td>\n",
       "      <td>5.492116</td>\n",
       "    </tr>\n",
       "    <tr>\n",
       "      <th>2</th>\n",
       "      <td>a11</td>\n",
       "      <td>2018-01-07</td>\n",
       "      <td>58.0</td>\n",
       "      <td>4.283373</td>\n",
       "      <td>71.549132</td>\n",
       "      <td>402.094327</td>\n",
       "    </tr>\n",
       "    <tr>\n",
       "      <th>3</th>\n",
       "      <td>a12</td>\n",
       "      <td>2018-01-07</td>\n",
       "      <td>64.0</td>\n",
       "      <td>4.283373</td>\n",
       "      <td>73.429514</td>\n",
       "      <td>211.692244</td>\n",
       "    </tr>\n",
       "    <tr>\n",
       "      <th>4</th>\n",
       "      <td>a13</td>\n",
       "      <td>2018-01-07</td>\n",
       "      <td>100.0</td>\n",
       "      <td>4.283373</td>\n",
       "      <td>63.923937</td>\n",
       "      <td>0.850536</td>\n",
       "    </tr>\n",
       "    <tr>\n",
       "      <th>...</th>\n",
       "      <td>...</td>\n",
       "      <td>...</td>\n",
       "      <td>...</td>\n",
       "      <td>...</td>\n",
       "      <td>...</td>\n",
       "      <td>...</td>\n",
       "    </tr>\n",
       "    <tr>\n",
       "      <th>5643</th>\n",
       "      <td>c44</td>\n",
       "      <td>2020-02-25</td>\n",
       "      <td>59.0</td>\n",
       "      <td>43.642388</td>\n",
       "      <td>76.494637</td>\n",
       "      <td>19.135139</td>\n",
       "    </tr>\n",
       "    <tr>\n",
       "      <th>5644</th>\n",
       "      <td>c45</td>\n",
       "      <td>2020-02-25</td>\n",
       "      <td>87.0</td>\n",
       "      <td>43.642388</td>\n",
       "      <td>71.165052</td>\n",
       "      <td>30.794281</td>\n",
       "    </tr>\n",
       "    <tr>\n",
       "      <th>5646</th>\n",
       "      <td>c47</td>\n",
       "      <td>2020-02-25</td>\n",
       "      <td>97.0</td>\n",
       "      <td>43.642388</td>\n",
       "      <td>68.603287</td>\n",
       "      <td>5.339391</td>\n",
       "    </tr>\n",
       "    <tr>\n",
       "      <th>5647</th>\n",
       "      <td>c48</td>\n",
       "      <td>2020-02-25</td>\n",
       "      <td>92.0</td>\n",
       "      <td>43.642388</td>\n",
       "      <td>73.429239</td>\n",
       "      <td>18.040078</td>\n",
       "    </tr>\n",
       "    <tr>\n",
       "      <th>5649</th>\n",
       "      <td>c50</td>\n",
       "      <td>2020-02-25</td>\n",
       "      <td>59.0</td>\n",
       "      <td>43.642388</td>\n",
       "      <td>77.716955</td>\n",
       "      <td>14.405155</td>\n",
       "    </tr>\n",
       "  </tbody>\n",
       "</table>\n",
       "<p>4887 rows × 6 columns</p>\n",
       "</div>"
      ],
      "text/plain": [
       "     household       date  score      t_out     t_unit        hvac\n",
       "0           a1 2018-01-07  100.0   4.283373  66.693229  246.473231\n",
       "1          a10 2018-01-07  100.0   4.283373  66.356134    5.492116\n",
       "2          a11 2018-01-07   58.0   4.283373  71.549132  402.094327\n",
       "3          a12 2018-01-07   64.0   4.283373  73.429514  211.692244\n",
       "4          a13 2018-01-07  100.0   4.283373  63.923937    0.850536\n",
       "...        ...        ...    ...        ...        ...         ...\n",
       "5643       c44 2020-02-25   59.0  43.642388  76.494637   19.135139\n",
       "5644       c45 2020-02-25   87.0  43.642388  71.165052   30.794281\n",
       "5646       c47 2020-02-25   97.0  43.642388  68.603287    5.339391\n",
       "5647       c48 2020-02-25   92.0  43.642388  73.429239   18.040078\n",
       "5649       c50 2020-02-25   59.0  43.642388  77.716955   14.405155\n",
       "\n",
       "[4887 rows x 6 columns]"
      ]
     },
     "execution_count": 13,
     "metadata": {},
     "output_type": "execute_result"
    }
   ],
   "source": [
    "# your code here\n",
    "df_clean"
   ]
  },
  {
   "cell_type": "markdown",
   "metadata": {},
   "source": [
    "+ How many unique households do we have and what are their unique names? \n",
    "+ Hint: [Google it!](https://letmegooglethat.com/?q=pandas+find+unique+values)"
   ]
  },
  {
   "cell_type": "code",
   "execution_count": 14,
   "metadata": {},
   "outputs": [],
   "source": [
    "# your code here"
   ]
  },
  {
   "cell_type": "markdown",
   "metadata": {},
   "source": [
    "+ Print summary statistics for your cleaned dataset."
   ]
  },
  {
   "cell_type": "code",
   "execution_count": 15,
   "metadata": {},
   "outputs": [
    {
     "data": {
      "text/html": [
       "<div>\n",
       "<style scoped>\n",
       "    .dataframe tbody tr th:only-of-type {\n",
       "        vertical-align: middle;\n",
       "    }\n",
       "\n",
       "    .dataframe tbody tr th {\n",
       "        vertical-align: top;\n",
       "    }\n",
       "\n",
       "    .dataframe thead th {\n",
       "        text-align: right;\n",
       "    }\n",
       "</style>\n",
       "<table border=\"1\" class=\"dataframe\">\n",
       "  <thead>\n",
       "    <tr style=\"text-align: right;\">\n",
       "      <th></th>\n",
       "      <th>date</th>\n",
       "      <th>score</th>\n",
       "      <th>t_out</th>\n",
       "      <th>t_unit</th>\n",
       "      <th>hvac</th>\n",
       "    </tr>\n",
       "  </thead>\n",
       "  <tbody>\n",
       "    <tr>\n",
       "      <th>count</th>\n",
       "      <td>4887</td>\n",
       "      <td>4887.000000</td>\n",
       "      <td>4887.000000</td>\n",
       "      <td>4887.000000</td>\n",
       "      <td>4887.000000</td>\n",
       "    </tr>\n",
       "    <tr>\n",
       "      <th>mean</th>\n",
       "      <td>2019-01-28 10:29:05.856353536</td>\n",
       "      <td>74.372826</td>\n",
       "      <td>52.907260</td>\n",
       "      <td>74.172698</td>\n",
       "      <td>81.741860</td>\n",
       "    </tr>\n",
       "    <tr>\n",
       "      <th>min</th>\n",
       "      <td>2018-01-07 00:00:00</td>\n",
       "      <td>0.000000</td>\n",
       "      <td>4.283373</td>\n",
       "      <td>63.923937</td>\n",
       "      <td>0.000000</td>\n",
       "    </tr>\n",
       "    <tr>\n",
       "      <th>25%</th>\n",
       "      <td>2018-07-15 00:00:00</td>\n",
       "      <td>60.000000</td>\n",
       "      <td>37.522495</td>\n",
       "      <td>72.383504</td>\n",
       "      <td>18.321238</td>\n",
       "    </tr>\n",
       "    <tr>\n",
       "      <th>50%</th>\n",
       "      <td>2019-01-27 00:00:00</td>\n",
       "      <td>79.000000</td>\n",
       "      <td>48.916667</td>\n",
       "      <td>74.178348</td>\n",
       "      <td>51.974687</td>\n",
       "    </tr>\n",
       "    <tr>\n",
       "      <th>75%</th>\n",
       "      <td>2019-08-11 00:00:00</td>\n",
       "      <td>92.000000</td>\n",
       "      <td>73.079266</td>\n",
       "      <td>76.063591</td>\n",
       "      <td>110.487709</td>\n",
       "    </tr>\n",
       "    <tr>\n",
       "      <th>max</th>\n",
       "      <td>2020-02-25 00:00:00</td>\n",
       "      <td>100.000000</td>\n",
       "      <td>82.819618</td>\n",
       "      <td>81.941295</td>\n",
       "      <td>693.526701</td>\n",
       "    </tr>\n",
       "    <tr>\n",
       "      <th>std</th>\n",
       "      <td>NaN</td>\n",
       "      <td>21.643791</td>\n",
       "      <td>18.992310</td>\n",
       "      <td>2.608969</td>\n",
       "      <td>95.901059</td>\n",
       "    </tr>\n",
       "  </tbody>\n",
       "</table>\n",
       "</div>"
      ],
      "text/plain": [
       "                                date        score        t_out       t_unit  \\\n",
       "count                           4887  4887.000000  4887.000000  4887.000000   \n",
       "mean   2019-01-28 10:29:05.856353536    74.372826    52.907260    74.172698   \n",
       "min              2018-01-07 00:00:00     0.000000     4.283373    63.923937   \n",
       "25%              2018-07-15 00:00:00    60.000000    37.522495    72.383504   \n",
       "50%              2019-01-27 00:00:00    79.000000    48.916667    74.178348   \n",
       "75%              2019-08-11 00:00:00    92.000000    73.079266    76.063591   \n",
       "max              2020-02-25 00:00:00   100.000000    82.819618    81.941295   \n",
       "std                              NaN    21.643791    18.992310     2.608969   \n",
       "\n",
       "              hvac  \n",
       "count  4887.000000  \n",
       "mean     81.741860  \n",
       "min       0.000000  \n",
       "25%      18.321238  \n",
       "50%      51.974687  \n",
       "75%     110.487709  \n",
       "max     693.526701  \n",
       "std      95.901059  "
      ]
     },
     "execution_count": 15,
     "metadata": {},
     "output_type": "execute_result"
    }
   ],
   "source": [
    "# your code here\n",
    "df_clean.describe()"
   ]
  },
  {
   "cell_type": "markdown",
   "metadata": {},
   "source": [
    "+ Save your cleaned dataset in a csv file using ``df_clean.to_csv``. Use the name ``temperature_clean.csv``."
   ]
  },
  {
   "cell_type": "code",
   "execution_count": 16,
   "metadata": {},
   "outputs": [],
   "source": [
    "# your code here\n",
    "df_clean.to_csv(\"temperature_clean.csv\")\n"
   ]
  },
  {
   "cell_type": "markdown",
   "metadata": {},
   "source": [
    "+ Verify that the file exists by running the following lines of code (does not work on Windows):"
   ]
  },
  {
   "cell_type": "code",
   "execution_count": 17,
   "metadata": {},
   "outputs": [
    {
     "name": "stdout",
     "output_type": "stream",
     "text": [
      "-rw-r--r--. 1 admin admin 353K 29 mars  19:13 temperature_clean.csv\n"
     ]
    }
   ],
   "source": [
    "!ls -lth temperature_clean.csv"
   ]
  },
  {
   "cell_type": "code",
   "execution_count": 18,
   "metadata": {},
   "outputs": [
    {
     "name": "stdout",
     "output_type": "stream",
     "text": [
      ",household,date,score,t_out,t_unit,hvac\n",
      "0,a1,2018-01-07,100.0,4.28337310850414,66.6932291666667,246.473230555556\n",
      "1,a10,2018-01-07,100.0,4.28337310850414,66.3561342592595,5.49211611111111\n",
      "2,a11,2018-01-07,58.0,4.28337310850414,71.5491319444439,402.094326666667\n",
      "3,a12,2018-01-07,64.0,4.28337310850414,73.4295138888889,211.692243611111\n",
      "4,a13,2018-01-07,100.0,4.28337310850414,63.9239365079362,0.850535833333333\n",
      "7,a16,2018-01-07,56.0,4.28337310850414,66.9089699074074,529.843388611111\n",
      "8,a2,2018-01-07,38.0,4.28337310850414,76.0631944444446,556.2061075\n",
      "9,a3,2018-01-07,50.0,4.28337310850414,75.6771990740738,508.592283055556\n",
      "10,a4,2018-01-07,99.0,4.28337310850414,67.7806134259262,0.0\n"
     ]
    }
   ],
   "source": [
    "!head temperature_clean.csv"
   ]
  },
  {
   "cell_type": "markdown",
   "metadata": {},
   "source": [
    "+ Save the cleanded data set in an Microsoft Excel format. Look at [pandas.DataFrame](https://pandas.pydata.org/docs/reference/api/pandas.DataFrame.html) for the right function. Call the file ``temperature_clean.xlsx``."
   ]
  },
  {
   "cell_type": "code",
   "execution_count": 19,
   "metadata": {},
   "outputs": [],
   "source": [
    "# your code here\n",
    "df_clean.to_excel(\"temperature_clean.xlsx\")"
   ]
  },
  {
   "cell_type": "code",
   "execution_count": 20,
   "metadata": {},
   "outputs": [
    {
     "name": "stdout",
     "output_type": "stream",
     "text": [
      "catalysis.csv       python-csv-files.ipynb  temperature_clean.csv\n",
      "Extended_data.xlsx  python-matrices.ipynb   temperature_clean.xlsx\n",
      "homework_03.ipynb   python-pandas.ipynb     temperature_raw.xlsx\n",
      "intro.md            random_data.csv         temp_price.csv\n"
     ]
    }
   ],
   "source": [
    "ls"
   ]
  },
  {
   "cell_type": "markdown",
   "metadata": {},
   "source": [
    "+ Download the the newly created ``temperature_clean.xlsx`` file to your computer and open it up. There is no need to show something here. Just do it for your own education. If you are running the Jupyter notebook on your own computer, then there is nothing to do apart from finding the file. If you are working on Google Colab, see [this](https://stackoverflow.com/questions/48774285/how-to-download-file-created-in-colaboratory-workspace)."
   ]
  },
  {
   "cell_type": "code",
   "execution_count": 21,
   "metadata": {},
   "outputs": [],
   "source": [
    "# your code here (if needed)"
   ]
  },
  {
   "attachments": {},
   "cell_type": "markdown",
   "metadata": {},
   "source": [
    "(lecture03:homework:problem2)=\n",
    "## Problem 2 - Chemical reactions\n",
    "\n",
    "In this problem, we are going to make a new DataFrame from a matrix of data.\n",
    "We will use the catalysis dataset we introduced in the lecture.\n",
    "As a reminder, this dataset is from a chemical reaction studied in {cite}`KATSOUNAROS2012270`.\n",
    "The chemical reaction converts NO3 to N2. We have seven measurements at thirty second intervals. The masses are in grams. We saw in the lecture that the mass of the measured chemical species is not conserved, which suggests that there is at least one more thing we do not measure. The goal of this problem is to create a dataframe with the data and then add a column to it with our guess (prediction) for the mass of the unobserved chemical species."
   ]
  },
  {
   "cell_type": "markdown",
   "metadata": {},
   "source": [
    "+ First, let's make a list with the column names. The names are \"Time, NO3, NO2, N2, NH3, N2O.\" Make the list and call it ``column_names``. Let me make part of the list and you complete the rest."
   ]
  },
  {
   "cell_type": "code",
   "execution_count": 22,
   "metadata": {},
   "outputs": [
    {
     "data": {
      "text/plain": [
       "['Time', 'NO3', 'NO2', 'N2', 'NH3', 'N2O']"
      ]
     },
     "execution_count": 22,
     "metadata": {},
     "output_type": "execute_result"
    }
   ],
   "source": [
    "column_names = ['Time', 'NO3', \"NO2\", \"N2\", \"NH3\", \"N2O\"] # Complete the rest of the list - Pay attention to\n",
    "                               # the fact that the column names are strings.\n",
    "column_names"
   ]
  },
  {
   "cell_type": "markdown",
   "metadata": {},
   "source": [
    "+ Now, let's put the measured data in a numpy array. Remember that these are grams. The data are:"
   ]
  },
  {
   "cell_type": "code",
   "execution_count": 23,
   "metadata": {},
   "outputs": [
    {
     "data": {
      "text/plain": [
       "(180, 13.54, 6.11, 309.5, 27.26, 62.54)"
      ]
     },
     "execution_count": 23,
     "metadata": {},
     "output_type": "execute_result"
    }
   ],
   "source": [
    "# There is no point running this code block - I just wanted to put the raw data here\n",
    "0,500.00,0.00,0.00,0.00,0.00\n",
    "30,250.95,107.32,18.51,3.33,4.98\n",
    "60,123.66,132.33,74.85,7.34,20.14\n",
    "90,84.47,98.81,166.19,13.14,42.10\n",
    "120,30.24,38.74,249.78,19.54,55.98\n",
    "150,27.94,10.42,292.32,24.07,60.65\n",
    "180,13.54,6.11,309.50,27.26,62.54"
   ]
  },
  {
   "cell_type": "markdown",
   "metadata": {},
   "source": [
    "Let me make part of the matrix for you, and you should complete the rest:"
   ]
  },
  {
   "cell_type": "code",
   "execution_count": 24,
   "metadata": {},
   "outputs": [
    {
     "ename": "NameError",
     "evalue": "name 'np' is not defined",
     "output_type": "error",
     "traceback": [
      "\u001b[0;31m---------------------------------------------------------------------------\u001b[0m",
      "\u001b[0;31mNameError\u001b[0m                                 Traceback (most recent call last)",
      "Cell \u001b[0;32mIn[24], line 1\u001b[0m\n\u001b[0;32m----> 1\u001b[0m raw_data \u001b[38;5;241m=\u001b[39m \u001b[43mnp\u001b[49m\u001b[38;5;241m.\u001b[39marray(\n\u001b[1;32m      2\u001b[0m     [\n\u001b[1;32m      3\u001b[0m         [\u001b[38;5;241m0\u001b[39m,\u001b[38;5;241m500.00\u001b[39m,\u001b[38;5;241m0.00\u001b[39m,\u001b[38;5;241m0.00\u001b[39m,\u001b[38;5;241m0.00\u001b[39m,\u001b[38;5;241m0.00\u001b[39m],\n\u001b[1;32m      4\u001b[0m         [\u001b[38;5;241m30\u001b[39m,\u001b[38;5;241m250.95\u001b[39m,\u001b[38;5;241m107.32\u001b[39m,\u001b[38;5;241m18.51\u001b[39m,\u001b[38;5;241m3.33\u001b[39m,\u001b[38;5;241m4.98\u001b[39m],\n\u001b[1;32m      5\u001b[0m         [\u001b[38;5;241m60\u001b[39m,\u001b[38;5;241m123.66\u001b[39m,\u001b[38;5;241m132.33\u001b[39m,\u001b[38;5;241m74.85\u001b[39m,\u001b[38;5;241m7.34\u001b[39m,\u001b[38;5;241m20.14\u001b[39m], \n\u001b[1;32m      6\u001b[0m         [\u001b[38;5;241m90\u001b[39m,\u001b[38;5;241m84.47\u001b[39m,\u001b[38;5;241m98.81\u001b[39m,\u001b[38;5;241m166.19\u001b[39m,\u001b[38;5;241m13.14\u001b[39m,\u001b[38;5;241m42.10\u001b[39m],\n\u001b[1;32m      7\u001b[0m         [\u001b[38;5;241m120\u001b[39m,\u001b[38;5;241m30.24\u001b[39m,\u001b[38;5;241m38.74\u001b[39m,\u001b[38;5;241m249.78\u001b[39m,\u001b[38;5;241m19.54\u001b[39m,\u001b[38;5;241m55.98\u001b[39m],\n\u001b[1;32m      8\u001b[0m         [\u001b[38;5;241m150\u001b[39m,\u001b[38;5;241m27.94\u001b[39m,\u001b[38;5;241m10.42\u001b[39m,\u001b[38;5;241m292.32\u001b[39m,\u001b[38;5;241m24.07\u001b[39m,\u001b[38;5;241m60.65\u001b[39m],\n\u001b[1;32m      9\u001b[0m         [\u001b[38;5;241m180\u001b[39m,\u001b[38;5;241m13.54\u001b[39m,\u001b[38;5;241m6.11\u001b[39m,\u001b[38;5;241m309.50\u001b[39m,\u001b[38;5;241m27.26\u001b[39m,\u001b[38;5;241m62.54\u001b[39m]\n\u001b[1;32m     10\u001b[0m     ]\n\u001b[1;32m     11\u001b[0m )\n\u001b[1;32m     12\u001b[0m raw_data\n",
      "\u001b[0;31mNameError\u001b[0m: name 'np' is not defined"
     ]
    }
   ],
   "source": [
    "raw_data = np.array(\n",
    "    [\n",
    "        [0,500.00,0.00,0.00,0.00,0.00],\n",
    "        [30,250.95,107.32,18.51,3.33,4.98],\n",
    "        [60,123.66,132.33,74.85,7.34,20.14], \n",
    "        [90,84.47,98.81,166.19,13.14,42.10],\n",
    "        [120,30.24,38.74,249.78,19.54,55.98],\n",
    "        [150,27.94,10.42,292.32,24.07,60.65],\n",
    "        [180,13.54,6.11,309.50,27.26,62.54]\n",
    "    ]\n",
    ")\n",
    "raw_data"
   ]
  },
  {
   "cell_type": "markdown",
   "metadata": {},
   "source": [
    "Remember that your matrix must have six columns and seven rows."
   ]
  },
  {
   "cell_type": "markdown",
   "metadata": {},
   "source": [
    "+ Let's put the data so far in a dataframe. "
   ]
  },
  {
   "cell_type": "code",
   "execution_count": null,
   "metadata": {},
   "outputs": [
    {
     "data": {
      "text/html": [
       "<div>\n",
       "<style scoped>\n",
       "    .dataframe tbody tr th:only-of-type {\n",
       "        vertical-align: middle;\n",
       "    }\n",
       "\n",
       "    .dataframe tbody tr th {\n",
       "        vertical-align: top;\n",
       "    }\n",
       "\n",
       "    .dataframe thead th {\n",
       "        text-align: right;\n",
       "    }\n",
       "</style>\n",
       "<table border=\"1\" class=\"dataframe\">\n",
       "  <thead>\n",
       "    <tr style=\"text-align: right;\">\n",
       "      <th></th>\n",
       "      <th>Time</th>\n",
       "      <th>NO3</th>\n",
       "      <th>NO2</th>\n",
       "      <th>N2</th>\n",
       "      <th>NH3</th>\n",
       "      <th>N2O</th>\n",
       "    </tr>\n",
       "  </thead>\n",
       "  <tbody>\n",
       "    <tr>\n",
       "      <th>0</th>\n",
       "      <td>0.0</td>\n",
       "      <td>500.00</td>\n",
       "      <td>0.00</td>\n",
       "      <td>0.00</td>\n",
       "      <td>0.00</td>\n",
       "      <td>0.00</td>\n",
       "    </tr>\n",
       "    <tr>\n",
       "      <th>1</th>\n",
       "      <td>30.0</td>\n",
       "      <td>250.95</td>\n",
       "      <td>107.32</td>\n",
       "      <td>18.51</td>\n",
       "      <td>3.33</td>\n",
       "      <td>4.98</td>\n",
       "    </tr>\n",
       "    <tr>\n",
       "      <th>2</th>\n",
       "      <td>60.0</td>\n",
       "      <td>123.66</td>\n",
       "      <td>132.33</td>\n",
       "      <td>74.85</td>\n",
       "      <td>7.34</td>\n",
       "      <td>20.14</td>\n",
       "    </tr>\n",
       "    <tr>\n",
       "      <th>3</th>\n",
       "      <td>90.0</td>\n",
       "      <td>84.47</td>\n",
       "      <td>98.81</td>\n",
       "      <td>166.19</td>\n",
       "      <td>13.14</td>\n",
       "      <td>42.10</td>\n",
       "    </tr>\n",
       "    <tr>\n",
       "      <th>4</th>\n",
       "      <td>120.0</td>\n",
       "      <td>30.24</td>\n",
       "      <td>38.74</td>\n",
       "      <td>249.78</td>\n",
       "      <td>19.54</td>\n",
       "      <td>55.98</td>\n",
       "    </tr>\n",
       "    <tr>\n",
       "      <th>5</th>\n",
       "      <td>150.0</td>\n",
       "      <td>27.94</td>\n",
       "      <td>10.42</td>\n",
       "      <td>292.32</td>\n",
       "      <td>24.07</td>\n",
       "      <td>60.65</td>\n",
       "    </tr>\n",
       "    <tr>\n",
       "      <th>6</th>\n",
       "      <td>180.0</td>\n",
       "      <td>13.54</td>\n",
       "      <td>6.11</td>\n",
       "      <td>309.50</td>\n",
       "      <td>27.26</td>\n",
       "      <td>62.54</td>\n",
       "    </tr>\n",
       "  </tbody>\n",
       "</table>\n",
       "</div>"
      ],
      "text/plain": [
       "    Time     NO3     NO2      N2    NH3    N2O\n",
       "0    0.0  500.00    0.00    0.00   0.00   0.00\n",
       "1   30.0  250.95  107.32   18.51   3.33   4.98\n",
       "2   60.0  123.66  132.33   74.85   7.34  20.14\n",
       "3   90.0   84.47   98.81  166.19  13.14  42.10\n",
       "4  120.0   30.24   38.74  249.78  19.54  55.98\n",
       "5  150.0   27.94   10.42  292.32  24.07  60.65\n",
       "6  180.0   13.54    6.11  309.50  27.26  62.54"
      ]
     },
     "execution_count": 35,
     "metadata": {},
     "output_type": "execute_result"
    }
   ],
   "source": [
    "import pandas as pd\n",
    "df = pd.DataFrame(data=raw_data # your code here - the raw data in matrix format\n",
    "                  , \n",
    "                  columns=column_names # your code here - the column names\n",
    "                 )\n",
    "df"
   ]
  },
  {
   "cell_type": "markdown",
   "metadata": {},
   "source": [
    "+ In the lecture notes, we saw that the sum of the masses at each timestep was not conserved. Let's calculate how much mass is missing at each timestep. I will guide you through the steps. First, write some code to extract only the masses from the raw data.\n",
    "Get all columns of ``raw_data`` except the first one:"
   ]
  },
  {
   "cell_type": "code",
   "execution_count": null,
   "metadata": {},
   "outputs": [
    {
     "data": {
      "text/plain": [
       "array([[500.  ,   0.  ,   0.  ,   0.  ,   0.  ],\n",
       "       [250.95, 107.32,  18.51,   3.33,   4.98],\n",
       "       [123.66, 132.33,  74.85,   7.34,  20.14],\n",
       "       [ 84.47,  98.81, 166.19,  13.14,  42.1 ],\n",
       "       [ 30.24,  38.74, 249.78,  19.54,  55.98],\n",
       "       [ 27.94,  10.42, 292.32,  24.07,  60.65],\n",
       "       [ 13.54,   6.11, 309.5 ,  27.26,  62.54]])"
      ]
     },
     "execution_count": 37,
     "metadata": {},
     "output_type": "execute_result"
    }
   ],
   "source": [
    "mass_data = raw_data[:, 1:] # your code here\n",
    "mass_data"
   ]
  },
  {
   "cell_type": "markdown",
   "metadata": {},
   "source": [
    "+ Now, write code that sums all the columns for each row:"
   ]
  },
  {
   "cell_type": "code",
   "execution_count": null,
   "metadata": {},
   "outputs": [
    {
     "data": {
      "text/plain": [
       "array([500.  , 385.09, 358.32, 404.71, 394.28, 415.4 , 418.95])"
      ]
     },
     "execution_count": 40,
     "metadata": {},
     "output_type": "execute_result"
    }
   ],
   "source": [
    "total_measured_mass = mass_data.sum(axis=1) # your code here\n",
    "total_measured_mass"
   ]
  },
  {
   "cell_type": "markdown",
   "metadata": {},
   "source": [
    "+ Now, find how much is the missing mass of the unobserved chemical species X by subtracting the total measured mass from the initial mass (which was 500 grams)."
   ]
  },
  {
   "cell_type": "code",
   "execution_count": null,
   "metadata": {},
   "outputs": [
    {
     "data": {
      "text/plain": [
       "array([  0.  , 114.91, 141.68,  95.29, 105.72,  84.6 ,  81.05])"
      ]
     },
     "execution_count": 41,
     "metadata": {},
     "output_type": "execute_result"
    }
   ],
   "source": [
    "mass_of_X = 500 - total_measured_mass # your code here\n",
    "mass_of_X"
   ]
  },
  {
   "cell_type": "markdown",
   "metadata": {},
   "source": [
    "Very nice! You just made your first model! Your model is:\n",
    "$$\n",
    "\\text{mass of X} = 500\\;\\text{grams} - \\text{mass of NO3} - \\dots -\\text{mass of N2O}.\n",
    "$$\n",
    "Notice that we did not use just data to build this model.\n",
    "We used a physical principle (conservation of mass) plus data!\n",
    "It is a special kind of model.\n",
    "We will learn more about models in later lectures!"
   ]
  },
  {
   "cell_type": "markdown",
   "metadata": {},
   "source": [
    "+ Let's now make a new dataframe that also contains X. We need to add a column to our original dataframe. This is super simple. You can do it like this:"
   ]
  },
  {
   "cell_type": "code",
   "execution_count": null,
   "metadata": {},
   "outputs": [
    {
     "data": {
      "text/html": [
       "<div>\n",
       "<style scoped>\n",
       "    .dataframe tbody tr th:only-of-type {\n",
       "        vertical-align: middle;\n",
       "    }\n",
       "\n",
       "    .dataframe tbody tr th {\n",
       "        vertical-align: top;\n",
       "    }\n",
       "\n",
       "    .dataframe thead th {\n",
       "        text-align: right;\n",
       "    }\n",
       "</style>\n",
       "<table border=\"1\" class=\"dataframe\">\n",
       "  <thead>\n",
       "    <tr style=\"text-align: right;\">\n",
       "      <th></th>\n",
       "      <th>Time</th>\n",
       "      <th>NO3</th>\n",
       "      <th>NO2</th>\n",
       "      <th>N2</th>\n",
       "      <th>NH3</th>\n",
       "      <th>N2O</th>\n",
       "      <th>X</th>\n",
       "    </tr>\n",
       "  </thead>\n",
       "  <tbody>\n",
       "    <tr>\n",
       "      <th>0</th>\n",
       "      <td>0.0</td>\n",
       "      <td>500.00</td>\n",
       "      <td>0.00</td>\n",
       "      <td>0.00</td>\n",
       "      <td>0.00</td>\n",
       "      <td>0.00</td>\n",
       "      <td>0.00</td>\n",
       "    </tr>\n",
       "    <tr>\n",
       "      <th>1</th>\n",
       "      <td>30.0</td>\n",
       "      <td>250.95</td>\n",
       "      <td>107.32</td>\n",
       "      <td>18.51</td>\n",
       "      <td>3.33</td>\n",
       "      <td>4.98</td>\n",
       "      <td>114.91</td>\n",
       "    </tr>\n",
       "    <tr>\n",
       "      <th>2</th>\n",
       "      <td>60.0</td>\n",
       "      <td>123.66</td>\n",
       "      <td>132.33</td>\n",
       "      <td>74.85</td>\n",
       "      <td>7.34</td>\n",
       "      <td>20.14</td>\n",
       "      <td>141.68</td>\n",
       "    </tr>\n",
       "    <tr>\n",
       "      <th>3</th>\n",
       "      <td>90.0</td>\n",
       "      <td>84.47</td>\n",
       "      <td>98.81</td>\n",
       "      <td>166.19</td>\n",
       "      <td>13.14</td>\n",
       "      <td>42.10</td>\n",
       "      <td>95.29</td>\n",
       "    </tr>\n",
       "    <tr>\n",
       "      <th>4</th>\n",
       "      <td>120.0</td>\n",
       "      <td>30.24</td>\n",
       "      <td>38.74</td>\n",
       "      <td>249.78</td>\n",
       "      <td>19.54</td>\n",
       "      <td>55.98</td>\n",
       "      <td>105.72</td>\n",
       "    </tr>\n",
       "    <tr>\n",
       "      <th>5</th>\n",
       "      <td>150.0</td>\n",
       "      <td>27.94</td>\n",
       "      <td>10.42</td>\n",
       "      <td>292.32</td>\n",
       "      <td>24.07</td>\n",
       "      <td>60.65</td>\n",
       "      <td>84.60</td>\n",
       "    </tr>\n",
       "    <tr>\n",
       "      <th>6</th>\n",
       "      <td>180.0</td>\n",
       "      <td>13.54</td>\n",
       "      <td>6.11</td>\n",
       "      <td>309.50</td>\n",
       "      <td>27.26</td>\n",
       "      <td>62.54</td>\n",
       "      <td>81.05</td>\n",
       "    </tr>\n",
       "  </tbody>\n",
       "</table>\n",
       "</div>"
      ],
      "text/plain": [
       "    Time     NO3     NO2      N2    NH3    N2O       X\n",
       "0    0.0  500.00    0.00    0.00   0.00   0.00    0.00\n",
       "1   30.0  250.95  107.32   18.51   3.33   4.98  114.91\n",
       "2   60.0  123.66  132.33   74.85   7.34  20.14  141.68\n",
       "3   90.0   84.47   98.81  166.19  13.14  42.10   95.29\n",
       "4  120.0   30.24   38.74  249.78  19.54  55.98  105.72\n",
       "5  150.0   27.94   10.42  292.32  24.07  60.65   84.60\n",
       "6  180.0   13.54    6.11  309.50  27.26  62.54   81.05"
      ]
     },
     "execution_count": 42,
     "metadata": {},
     "output_type": "execute_result"
    }
   ],
   "source": [
    "df['X'] = mass_of_X # your code here\n",
    "df"
   ]
  },
  {
   "cell_type": "markdown",
   "metadata": {},
   "source": [
    "+ Now, save the dataframe to an Excel file."
   ]
  },
  {
   "cell_type": "code",
   "execution_count": null,
   "metadata": {},
   "outputs": [],
   "source": [
    "# your code here\n",
    "df.to_excel(\"Extended_data.xlsx\")"
   ]
  },
  {
   "cell_type": "code",
   "execution_count": null,
   "metadata": {},
   "outputs": [
    {
     "name": "stdout",
     "output_type": "stream",
     "text": [
      "catalysis.csv       python-csv-files.ipynb  temperature_clean.csv\n",
      "Extended_data.xlsx  python-matrices.ipynb   temperature_clean.xlsx\n",
      "homework_03.ipynb   python-pandas.ipynb     temperature_raw.xlsx\n",
      "intro.md            random_data.csv         temp_price.csv\n"
     ]
    }
   ],
   "source": [
    "ls"
   ]
  },
  {
   "cell_type": "markdown",
   "metadata": {},
   "source": []
  }
 ],
 "metadata": {
  "kernelspec": {
   "display_name": "Python 3",
   "language": "python",
   "name": "python3"
  },
  "language_info": {
   "codemirror_mode": {
    "name": "ipython",
    "version": 3
   },
   "file_extension": ".py",
   "mimetype": "text/x-python",
   "name": "python",
   "nbconvert_exporter": "python",
   "pygments_lexer": "ipython3",
   "version": "3.10.12"
  }
 },
 "nbformat": 4,
 "nbformat_minor": 4
}
